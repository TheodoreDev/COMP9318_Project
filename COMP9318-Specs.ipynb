{
 "cells": [
  {
   "cell_type": "markdown",
   "metadata": {},
   "source": [
    "# COMP-9318 Final Project"
   ]
  },
  {
   "cell_type": "markdown",
   "metadata": {},
   "source": [
    "## Instructions:\n",
    "1. This note book contains instructions for **COMP9318 Final-Project**.\n",
    "\n",
    "* You are required to complete your implementation in a file `submission.py` provided along with this notebook.\n",
    "\n",
    "* You are not allowed to print out unnecessary stuff. We will not consider any output printed out on the screen. All results should be returned in appropriate data structures returned by corresponding functions.\n",
    "\n",
    "* This notebook encompasses all the requisite details regarding the project. Detailed instructions including **CONSTRAINTS**, **FEEDBACK** and **EVALUATION** are provided in respective sections. In case of additional problem, you can post your query @ Piazza.\n",
    "\n",
    "* This project is **time-consuming**, so it is highly advised that you start working on this as early as possible.\n",
    "\n",
    "* You are allowed to use only the permitted libraries and modules (as mentioned in the **CONSTRAINTS** section). You should not import unnecessary modules/libraries, failing to import such modules at test time will lead to errors.\n",
    "\n",
    "* You are **NOT ALLOWED** to use dictionaries and/or external data resources for this project.\n",
    "\n",
    "* We will provide you **LIMITED FEEDBACK** for your submission (only **15** attempts allowed to each group). Instructions for the **FEEDBACK** and final submission are given in the **SUBMISSION** section.\n",
    "\n",
    "* For **Final Evaluation** we will be using a different dataset, so your final scores may vary.  \n",
    "\n",
    "* Submission deadline for this assignment is **23:59:59 on 27-May, 2018**.\n",
    "* **Late Penalty: 10-% on day-1 and 20% on each subsequent day.**"
   ]
  },
  {
   "cell_type": "markdown",
   "metadata": {},
   "source": [
    "## Introduction:\n",
    "\n",
    "In this Project, you are required to devise an algorithm/technique to fool a binary classifier named `target-classifier`. In this regard, you only have access to following information:\n",
    "\n",
    "<br>\n",
    "1. The `target-classifier` is a binary classifier classifying data to two categories, $\\textit{i.e.}$, **class-1** and **class-0**.\n",
    "\n",
    "2. You have access to part of classifiers' training data, $\\textit{i.e.}$, a sample of 540 paragraphs. 180 for **class-1**, and 360 for **class-0**, provided in the files: `class-1.txt` and `class-0.txt` respectively.\n",
    "\n",
    "3. The `target-classifier` belong to the SVM family.\n",
    "\n",
    "4. The `target-classifier` allows **EXACTLY 20 DISTINCT** modifications in each test sample.\n",
    "5. You are provided with a test sample of **200** paragraphs from **class-1** (in the file: `test_data.txt`). You can use these test samples to get feedback from the target classifier (**only 15 attempts** allowed to each group.).\n",
    "6. **NOTE: You are not allowed to use the data `test_data.txt` for your model training (if any). VIOLATIONS in this regard will get ZERO score**.\n",
    "\n",
    "<br>\n",
    "### -to-do:\n",
    "* You are required to come up with an algorithm named `fool_classifier()` that makes best use of the above-mentioned information (**point 1-4**) to fool the `target-classifier`. By fooling the classifier we mean that your algorithm can help mis-classify a bunch of test instances (**point-5**) with minimal possible modifications (**EXACTLY 20 DISTINCT** modifications allowed to each test sample). \n",
    "\n",
    "* **NOTE::** We put a **harsh limit** on the number of modifications allowed for each test instance. You are only allowed to modify each test sample by **EXACTLY 20 DISTINCT tokens (NO MORE NO LESS)**.\n",
    "\n",
    "* **NOTE::** **ADDING** or **DELETING** one word at a time is **ONE** modification. Replacement will be considered as **TWO** modifications $(\\textit{i.e.,}$ **Deletion** followed by **Insertion**)."
   ]
  },
  {
   "cell_type": "markdown",
   "metadata": {},
   "source": [
    "## Constraints\n",
    "\n",
    "Your implementation `submission.py` should comply with following constraints.\n",
    "\n",
    "1. You should implement your methodology using `Python3`.\n",
    "* You should implement your code in the function `fool_classifier()` in the file `submission.py`. \n",
    "* You are only allowed to use pre-defined class `strategy()` defined in the file: `helper.py` in order to train your models (if any). \n",
    "* You **should not** do any pre-processing on the data. We have already pre-processed the data for you.  \n",
    "* You are supposed to implement your algorithm using **scikit-learn (version=0.19.1)**. We will **NOT** accept implementations using other Libraries.\n",
    "\n",
    "* You are **not supposed to augment** the data using external/additional resources.  You are only allowed to use the partial training data provided to you ($\\textit{i.e.,} $ `class-1.txt` and `class-0.txt`).\n",
    "\n",
    "* You are **not** allowed to use the test samples ($\\textit{i.e.,}$ `test_data.txt`) for model training and/or inference building. You can only use this data for testing, $\\textit{i.e.,}$ calculating success %-age (as described in the **EVALUATION** section.). **VIOLATIONS IN THIS REGARD WILL GET ZERO SCORE**.\n",
    "\n",
    "* You are **not** allowed to hard code the ground truth and any other information into your implementation `submission.py`. \n",
    "\n",
    "* Considering the **RUNNING TIME**, your implementation is supposed to read the test data file ($\\textit{i.e.,}$ `test_data.txt` with 200 test samples), process it and write the modified file (`modified_data.txt`) within **12 Minutes**.\n",
    "\n",
    "* Each modified test sample in the modified file (`modified_data.txt`) should not differ from the original test sample corresponding to the file (`test_data.txt`) by more than 20 tokens.\n",
    "\n",
    "* **NOTE::** Inserting or Deleting a word is **ONE** modification. Replacement will be considered as **TWO** modifications $(\\textit{i.e.,}$ deletion followed by insertion)."
   ]
  },
  {
   "cell_type": "markdown",
   "metadata": {},
   "source": [
    "## Submission Instructions:\n",
    "\n",
    "* Please read these instructions **VERY CAREFULLY**.\n",
    "\n",
    "### FEEDBACK:\n",
    "* For this project, we will provide real-time feed-back on a test data ($\\textit{i.e.,}$ the file `test_data.txt` containing **200** test cases).\n",
    "* Each group is allowed to avail only **15 attempts in TOTAL**, so use your attempts **WISELY**.\n",
    "* We will only provide **ACCUMULATIVE FEEDBACK** ($\\textit{i.e.,}$ how many modified test samples out of **200** were classified as Class-0). We **WILL NOT** provide detailed feedback for individual test cases.\n",
    "* For the feedback, you are required to submit the modified text file ($\\textit{i.e.,}$ `modified_data.txt`) via the submission portal: http://kg.cse.unsw.edu.au:8318/project/ (using Group name and Group password).\n",
    "* **NOTE::** Please make sure that the modified text file is generated by your program `fool_classifier()`, and it obeys the modification constraints. We have provided a function named: `check_data()` in the class: `strategy()`to check whether the modified file: `modified_data.txt` obeys the constraints.\n",
    "\n",
    "3. Your algorithm should modify each test sample in `test_data.txt` by **EXACTLY 20 DISTINCT TOKENS**.\n",
    "\n",
    "### Final Submission:\n",
    "1. For final submission, you need to submit:\n",
    "    * Your code in the file `submission.py`\n",
    "    * A report (`report.pdf`) outlining your approach for this project.\n",
    "2. We will release the detailed instructions for the final submission submission via Piazza."
   ]
  },
  {
   "cell_type": "markdown",
   "metadata": {},
   "source": [
    "## Implementation Details\n",
    "\n",
    "1. In the file `submission.py`, you are required to implement a function named: `fool_classifier()` that reads a text file named: `test_data.txt` from Present Working Directory(PWD), and writes out the modified text file: `modified_data.txt` in the same directory.\n",
    "* We have provided the implementation of **strategy** class in a seperate file `helper.py`. You are supposed to use this class for your model training (if any) and inference building.\n",
    "\n",
    "* **Detailed description of input and/or output parts is given below:**\n",
    "\n",
    "### Input: \n",
    "* The function `fool_classifier()` reads a text files named `test_data.txt` having almost (500-1500) test samples. Each line in the input file corresponds to a single test sample.\n",
    "\n",
    "* **Note:** We will also provide the partial training data ($\\textit{(i)}$ `class-0.txt` and $\\textit{(ii)}$ `class-1.txt`) in the test environment. You can  access this data using the class: `strategy()`. \n",
    "\n",
    "### Output:\n",
    "* You are supposed to write down the modified file named `modified_data.txt` in the same directory, and in the same format as that of the `test_data.txt`. In addition, your program is supposed to return the instance of the `strategy` class defined in `helper.py`.\n",
    "\n",
    "\n",
    "* **Note:** Please make sure that the file: `modified_data.txt` is generated by your code, and it follows the **MODIFICATION RESTRICTIONS (ADD** and/or **DELETE EXACTLY 20 DISTINCT TOKENS)**. In case of **ERRORS**, we will **NOT** allow more feedback attempts. "
   ]
  },
  {
   "cell_type": "code",
   "execution_count": 28,
   "metadata": {},
   "outputs": [],
   "source": [
    "# We have provided these implementations in the file helper.py, provided along with this project.\n",
    "## Please do not change these functions.\n",
    "###################\n",
    "class countcalls(object):\n",
    "    __instances = {}\n",
    "    def __init__(self, f):\n",
    "        self.__f = f\n",
    "        self.__numcalls = 0\n",
    "        countcalls.__instances[f] = self\n",
    "    def __call__(self, *args, **kwargs):\n",
    "        self.__numcalls += 1\n",
    "        return self.__f(*args, **kwargs)\n",
    "    @staticmethod\n",
    "    def count(f):\n",
    "        return countcalls.__instances[f].__numcalls\n",
    "    @staticmethod\n",
    "    def counts():\n",
    "        res = sum(countcalls.count(f) for f in countcalls.__instances)\n",
    "        for f in countcalls.__instances:\n",
    "            countcalls.__instances[f].__numcalls = 0\n",
    "        return res\n",
    "    \n",
    "## Strategy() class provided in helper.py to facilitate the implementation.\n",
    "class strategy:\n",
    "    ## Read in the required training data...\n",
    "    def __init__(self):\n",
    "        with open('class-0.txt','r') as class0:\n",
    "            class_0=[line.strip().split(' ') for line in class0]\n",
    "        with open('class-1.txt','r') as class1:\n",
    "            class_1=[line.strip().split(' ') for line in class1]\n",
    "        self.class0=class_0\n",
    "        self.class1=class_1\n",
    "    \n",
    "    @countcalls\n",
    "    def train_svm(parameters, x_train, y_train):\n",
    "        ## Populate the parameters...\n",
    "        gamma=parameters['gamma']\n",
    "        C=parameters['C']\n",
    "        kernel=parameters['kernel']\n",
    "        degree=parameters['degree']\n",
    "        coef0=parameters['coef0']\n",
    "        \n",
    "        ## Train the classifier...\n",
    "        clf = svm.SVC(kernel=kernel, C=C, gamma=gamma, degree=degree, coef0=coef0)\n",
    "        assert x_train.shape[0] <=541 and x_train.shape[1] <= 5720\n",
    "        clf.fit(x_train, y_train)\n",
    "        return clf\n",
    "    \n",
    "    ## Function to check the Modification Limits...(You can modify EXACTLY 20-DISTINCT TOKENS)\n",
    "    def check_data(self, original_file, modified_file):\n",
    "        with open(original_file, 'r') as infile:\n",
    "            data=[line.strip().split(' ') for line in infile]\n",
    "        Original={}\n",
    "        for idx in range(len(data)):\n",
    "            Original[idx] = data[idx]\n",
    "\n",
    "        with open(modified_file, 'r') as infile:\n",
    "            data=[line.strip().split(' ') for line in infile]\n",
    "        Modified={}\n",
    "        for idx in range(len(data)):\n",
    "            Modified[idx] = data[idx]\n",
    "\n",
    "        for k in sorted(Original.keys()):\n",
    "            record=set(Original[k])\n",
    "            sample=set(Modified[k])\n",
    "            assert len((set(record)-set(sample)) | (set(sample)-set(record)))==20\n",
    "        return True"
   ]
  },
  {
   "cell_type": "markdown",
   "metadata": {},
   "source": [
    "### Creating Training Data\n",
    "-There is two version of bag of words:\n",
    "1. Bag of Words created by myself(Accuracy against test case = 51.5%\n",
    "2. Bag of Words created by CountVectorizer(Accuracy against test case = 49%"
   ]
  },
  {
   "cell_type": "code",
   "execution_count": 29,
   "metadata": {},
   "outputs": [],
   "source": [
    "import pandas\n",
    "from sklearn import svm\n",
    "\n",
    "def get_freq_of_tokens(ls):\n",
    "    tokens = {}\n",
    "    for token in ls:\n",
    "        if token not in tokens:\n",
    "            tokens[token] = 1\n",
    "        else:\n",
    "            tokens[token] += 1\n",
    "    return tokens\n",
    "\n",
    "#Training SVM (for testing purpose)\n",
    "training = strategy()\n",
    "\n",
    "#data provided in strategy class\n",
    "\n",
    "#turn data to bag of words (refer to wikipedia or other sources)\n",
    "\n",
    "#make each distinct word into a set\n",
    "features = set()\n",
    "for i in training.class0:\n",
    "    features = features | set(i)\n",
    "\n",
    "for i in training.class1:\n",
    "    features = features | set(i)\n",
    "\n",
    "features = list(features) #changed so the features is in order and can be used for other purpose\n",
    "\n",
    "#creating a dict per list (per doc)\n",
    "newlist0 = []\n",
    "for i in training.class0:\n",
    "    newlist0.append(get_freq_of_tokens(i))\n",
    "\n",
    "#print(newlist0)\n",
    "\n",
    "newlist1 = []\n",
    "for i in training.class1:\n",
    "    newlist1.append(get_freq_of_tokens(i))\n",
    "\n",
    "newdict = dict.fromkeys(features, 0)\n",
    "\n",
    "#make a list of dict representing the whole data\n",
    "xdata = []\n",
    "for row in newlist0:\n",
    "    tmp_dict = dict(newdict)\n",
    "    for i in row:\n",
    "        if i in newdict:\n",
    "            tmp_dict[i]+= row[i]\n",
    "    xdata.append(tmp_dict)\n",
    "    \n",
    "\n",
    "    \n",
    "for row in newlist1:\n",
    "    tmp_dict = dict(newdict)\n",
    "    for i in row:\n",
    "        if i in newdict:\n",
    "            tmp_dict[i]+= row[i]\n",
    "    xdata.append(tmp_dict)\n",
    "\n",
    "ydata = []\n",
    "for i in range(len(newlist0)):\n",
    "    ydata.append(0)\n",
    "for i in range(len(newlist1)):\n",
    "    ydata.append(1)\n",
    "\n",
    "x_data = pandas.DataFrame(xdata)\n",
    "#x_train, and y_train done\n",
    "#or create a df with index (if you know exactly the number of rows), the use df.loc[x] to input the row"
   ]
  },
  {
   "cell_type": "code",
   "execution_count": 30,
   "metadata": {},
   "outputs": [],
   "source": [
    "#USING COUNTVECTORIZER\n",
    "from sklearn.feature_extraction.text import CountVectorizer \n",
    "from sklearn.feature_extraction.text import TfidfTransformer\n",
    "from sklearn.pipeline import Pipeline\n",
    "\n",
    "#with pipeline (DOESN'T WORK YET)\n",
    "#pipe = Pipeline(['vect', CountVectorizer(), 'tfidf', TfidfTransformer()])\n",
    "#trainXpipe = pipe.fit_transform(combinedclass,ydata)\n",
    "\n",
    "#without pipeline\n",
    "vectorizer = CountVectorizer()\n",
    "newclass0 = [' '.join(x) for x in training.class0]\n",
    "newclass1 = [' '.join(x) for x in training.class1]\n",
    "combinedclass = newclass0 + newclass1\n",
    "\n",
    "trainX = vectorizer.fit_transform(combinedclass)\n",
    "#print(trainX.shape)\n",
    "\n",
    "#Using TFI-DF Transformation\n",
    "tfidf_transformer = TfidfTransformer()\n",
    "tfidftrainX = tfidf_transformer.fit_transform(trainX)\n",
    "#print(tfidftrainX.shape)\n",
    "\n",
    "#creating pipeline \n"
   ]
  },
  {
   "cell_type": "markdown",
   "metadata": {},
   "source": [
    "## Training the model\n",
    "There is two option, using countvectorizer and our bag of words\n",
    "\n",
    "### NOTE: Don't forget to comment out one of the model below so it will works"
   ]
  },
  {
   "cell_type": "code",
   "execution_count": 31,
   "metadata": {},
   "outputs": [],
   "source": [
    "#training SVM using default parameter\n",
    "parameter = {'gamma': 'auto', 'C': 1.0 ,'kernel': 'linear','degree': 3 ,'coef0': 0.0}\n",
    "\n",
    "#using CountVectorizer bag of words\n",
    "#model = training.train_svm(parameter, trainX, ydata)\n",
    "\n",
    "#using CountVectorizer + TFI-DF Transformer\n",
    "#model = training.train_svm(parameter, tfidftrainX, ydata)\n",
    "\n",
    "#using own bag of words\n",
    "model = training.train_svm(parameter, x_data, ydata)"
   ]
  },
  {
   "cell_type": "markdown",
   "metadata": {},
   "source": [
    "## Check Accuracy against test case"
   ]
  },
  {
   "cell_type": "code",
   "execution_count": 32,
   "metadata": {},
   "outputs": [],
   "source": [
    "#USING OWN BAG OF WORDS\n",
    "#check SVM against test data\n",
    "test_data = \"D:/MyStudy/Data Warehousing & Data Mining/Project for Data Warehousing/test_data.txt\"\n",
    "#open the test data\n",
    "with open(test_data, \"r+\") as tdata:\n",
    "    \n",
    "    #check inside of test_data\n",
    "    #for i in tdata:\n",
    "        #print(i)\n",
    "\n",
    "    #change test data into list of list\n",
    "    newlist = []\n",
    "    for i in tdata:\n",
    "        alist = i.split(' ')\n",
    "        newlist.append(alist)\n",
    "    \n",
    "    #make list of list into list of dict\n",
    "    listdict = list()\n",
    "    for i in newlist:\n",
    "        listdict.append(get_freq_of_tokens(i))\n",
    "    \n",
    "    #make features\n",
    "    #features = set()\n",
    "    #for i in newlist:\n",
    "    #    features = features|set(i)\n",
    "    \n",
    "    #make X_test\n",
    "    testdict = dict.fromkeys(features, 0)\n",
    "    \n",
    "    X_test = list()\n",
    "    for i in listdict:\n",
    "        tempdict = dict(testdict)\n",
    "        for wrd in i:\n",
    "            if wrd in tempdict:\n",
    "                tempdict[wrd] += i[wrd]\n",
    "        X_test.append(tempdict)\n",
    "    \n",
    "    #checking frequency in X_test\n",
    "    #count = 0\n",
    "    #for i in X_test:\n",
    "    #    for key, val in i.items():\n",
    "    #        if val > 0:\n",
    "    #            count += 1\n",
    "    #            print(f\"There is {count}\")\n",
    "                \n",
    "    Xtest = pandas.DataFrame(X_test)\n",
    "    \n",
    "    #make y_test\n",
    "    ytest = [1]*len(newlist)"
   ]
  },
  {
   "cell_type": "code",
   "execution_count": 33,
   "metadata": {},
   "outputs": [],
   "source": [
    "#USING CountVectorizer Bag of Words\n",
    "#check SVM against test data\n",
    "test_data = \"D:/MyStudy/Data Warehousing & Data Mining/Project for Data Warehousing/test_data.txt\"\n",
    "#open the test data\n",
    "with open(test_data, \"r+\") as tdata:\n",
    "\n",
    "    #change test data into list of list\n",
    "    newlist = []\n",
    "    for i in tdata:\n",
    "        alist = i.split(' ')\n",
    "        newlist.append(alist)\n",
    "    \n",
    "    #make testX using CountVectorizer\n",
    "    datatest = [' '.join(x) for x in newlist]\n",
    "    \n",
    "    testX = vectorizer.transform(datatest)\n",
    "    newtestX = tfidf_transformer.transform(testX)\n",
    "                    \n",
    "    #make y_test\n",
    "    ytest = [1]*len(newlist)"
   ]
  },
  {
   "cell_type": "code",
   "execution_count": 34,
   "metadata": {},
   "outputs": [
    {
     "name": "stdout",
     "output_type": "stream",
     "text": [
      "SVM against training data = 1.0\n",
      "SVM prediction against test data = [1 0 0 1 1 1 1 0 1 1 1 0 0 0 1 0 0 0 0 0 1 1 0 0 0 1 0 1 1 0 1 1 1 0 0 0 0\n",
      " 0 0 1 0 0 1 0 0 1 1 1 1 0 1 1 0 1 0 0 0 1 1 0 1 1 1 0 0 0 0 1 0 0 1 0 1 1\n",
      " 1 1 0 1 0 1 0 0 1 1 1 0 0 0 0 0 1 1 1 1 1 1 0 1 1 0 1 0 0 1 1 1 1 1 0 0 0\n",
      " 1 1 0 0 0 0 1 1 0 1 1 1 0 0 1 1 1 1 0 0 0 0 0 1 0 1 1 1 1 0 0 0 1 1 1 1 0\n",
      " 1 1 0 1 1 1 0 0 1 0 1 1 0 0 0 0 1 0 1 0 1 1 0 1 1 1 0 1 1 1 1 0 0 0 1 0 0\n",
      " 0 1 0 1 1 0 0 0 0 1 1 0 0 1 1]\n",
      "SVM against test data = 0.515\n"
     ]
    }
   ],
   "source": [
    "#check SVM against training data\n",
    "\n",
    "#this is for CountVectorizer Bag of Words\n",
    "#print(f\"SVM against training data = {model.score(trainX, ydata)}\")\n",
    "#print(f\"SVM prediction against test data = {model.predict(testX)}\")\n",
    "#print(f\"SVM against test data = {model.score(testX, ytest)}\")     \n",
    "\n",
    "#this is for CountVectorizer + TFI-DF Transformation \n",
    "#print(f\"SVM against training data = {model.score(tfidftrainX, ydata)}\")\n",
    "#print(f\"SVM prediction against test data = {model.predict(newtestX)}\")\n",
    "#print(f\"SVM against test data = {model.score(newtestX, ytest)}\")   \n",
    "\n",
    "#this is for our own Bag of Words\n",
    "print(f\"SVM against training data = {model.score(x_data, ydata)}\")\n",
    "print(f\"SVM prediction against test data = {model.predict(Xtest)}\")\n",
    "print(f\"SVM against test data = {model.score(Xtest, ytest)}\")     "
   ]
  },
  {
   "cell_type": "markdown",
   "metadata": {},
   "source": [
    "## Finding out top 20 features\n",
    "Using absolute value"
   ]
  },
  {
   "cell_type": "code",
   "execution_count": 35,
   "metadata": {},
   "outputs": [
    {
     "name": "stdout",
     "output_type": "stream",
     "text": [
      "20\n",
      "[3504, 4044, 2812, 9, 591, 5200, 13, 354, 4516, 3561, 968, 519, 5040, 2296, 3297, 958, 10, 1203, 2810, 2550]\n",
      "20\n",
      "['character', 'msv', 'tech', 'kite', '/', 'online', 'wage', 'ahmadinejad', 'punishment', 'land', 'non', 'muzaffarabad', 'congressional', 'restructure', 'drug', 'checkpoint', 'reason', 'rough', 'chadian', 'component']\n",
      "20\n",
      "[('character', 0.512758277494543), ('msv', 0.34436707970255476), ('tech', -0.2671745602160941), ('kite', 0.2362104633966918), ('/', 0.23380898430670333), ('online', -0.21773008031372137), ('wage', 0.21460421201154825), ('ahmadinejad', 0.19597609145466482), ('punishment', 0.18330528069383328), ('land', -0.17957078613374533), ('non', 0.17046027506944586), ('muzaffarabad', 0.16979683742908908), ('congressional', -0.1696792810947738), ('restructure', 0.16607738709055733), ('drug', 0.16453645539946735), ('checkpoint', -0.16206514476857625), ('reason', 0.16172986483887877), ('rough', 0.16061582201546684), ('chadian', -0.15360940352282537), ('component', 0.15303251780510055)]\n"
     ]
    }
   ],
   "source": [
    "weights = model.coef_.tolist()\n",
    "\n",
    "#apply abs to all of weights\n",
    "newweights = [abs(x) for x in weights[0]]\n",
    "\n",
    "#finding top 20\n",
    "sortweights = list(reversed(sorted(newweights)))\n",
    "top = sortweights[0:20]\n",
    "idx_top = list()\n",
    "for i in range(20):\n",
    "    idx = newweights.index(top[i])\n",
    "    idx_top.append(idx)  \n",
    "print(len(idx_top))\n",
    "print(idx_top)\n",
    "\n",
    "#finding out top 20 features words\n",
    "top_words = list()\n",
    "for i in range(20):\n",
    "    top_words.append(features[idx_top[i]])\n",
    "\n",
    "print(len(top_words))\n",
    "print(top_words)\n",
    "\n",
    "#pair up words with their real coefficient\n",
    "top_words_coef = list()\n",
    "for i in range(20):\n",
    "    top_words_coef.append((top_words[i],weights[0][idx_top[i]]))\n",
    "\n",
    "top_dict = dict(top_words_coef)\n",
    "\n",
    "print(len(top_words_coef))\n",
    "print(top_words_coef)"
   ]
  },
  {
   "cell_type": "markdown",
   "metadata": {},
   "source": [
    "## Modifying the test\n",
    "-The words will be added as many as constant (a variable)"
   ]
  },
  {
   "cell_type": "code",
   "execution_count": 47,
   "metadata": {},
   "outputs": [],
   "source": [
    "#open the test data\n",
    "with open(test_data) as tdata:\n",
    "    \n",
    "    #list of paragraph\n",
    "    list_par = list()\n",
    "    for i in tdata:\n",
    "        w = i.split()\n",
    "        list_par.append(w)\n",
    "    \n",
    "    #print(len(list_par))\n",
    "    #print(list_par)\n",
    "    \n",
    "    #check and modify every paragraph\n",
    "    constant = 100 #nb of words will be inserted\n",
    "    for i in range(len(list_par)):\n",
    "        \n",
    "        #check it against top 20 words\n",
    "        for w in top_words:\n",
    "            \n",
    "            if w in list_par[i]:\n",
    "                \n",
    "                #if positive words found\n",
    "                if top_dict[w] < 0: #originally \">\"\n",
    "                    list_par[i] = list(filter(lambda a: a != w, list_par[i])) #removing features with (+) weight\n",
    "                    \n",
    "                #if negative words found\n",
    "                elif top_dict[w] > 0: #originally \"<\n",
    "                    list_par[i] = list_par[i] + [w]*constant #add constant number of negative words into it\n",
    "            \n",
    "            else:\n",
    "                \n",
    "                #if negative word isn't there then add it\n",
    "                if top_dict[w] > 0: #originally \"<\"\n",
    "                    list_par[i] = list_par[i] + [w]*constant\n",
    "                    \n",
    "#create modified test text\n",
    "mod_data = \"D:/MyStudy/Data Warehousing & Data Mining/Project for Data Warehousing/modified_data.txt\"\n",
    "with open(mod_data, \"w+\") as moddata:\n",
    "    \n",
    "    #change list_par into list of string\n",
    "    list_string = [' '.join(x) for x in list_par]\n",
    "    \n",
    "    #print(len(list_string))\n",
    "    \n",
    "    for i in range(len(list_string)):\n",
    "        moddata.write(list_string[i]+\"\\n\")\n",
    "        \n",
    "\n",
    "    \n",
    "        "
   ]
  },
  {
   "cell_type": "markdown",
   "metadata": {},
   "source": [
    "## Checking the accuracy against Modified Text"
   ]
  },
  {
   "cell_type": "code",
   "execution_count": 48,
   "metadata": {},
   "outputs": [],
   "source": [
    "#Using self-made Bag of Words\n",
    "#open the modified data\n",
    "with open(mod_data, \"r\") as moddata:\n",
    "    \n",
    "    #make a list of words in paragraph\n",
    "    list_words = list()\n",
    "    \n",
    "    for i in moddata:\n",
    "        w = i.split()\n",
    "        list_words.append(w)\n",
    "        \n",
    "    #make a list of dict\n",
    "    listdict2 = list()\n",
    "    for i in list_words:\n",
    "        listdict2.append(get_freq_of_tokens(i))\n",
    "        \n",
    "    #make mod_Xtest\n",
    "    #using testdict from before\n",
    "    mod_X_test = list()\n",
    "    for i in listdict2:\n",
    "        tmpdict = dict(testdict)\n",
    "        for wrd in i:\n",
    "            if wrd in tmpdict:\n",
    "                tmpdict[wrd] += i[wrd]\n",
    "        mod_X_test.append(tmpdict)\n",
    "        \n",
    "    mod_Xtest = pandas.DataFrame(mod_X_test)\n",
    "    \n",
    "    #using the same ytest from before\n",
    "        \n",
    "    "
   ]
  },
  {
   "cell_type": "code",
   "execution_count": 49,
   "metadata": {},
   "outputs": [
    {
     "name": "stdout",
     "output_type": "stream",
     "text": [
      "SVM prediction against test data = [0 0 0 0 0 0 0 0 0 0 0 0 0 0 0 0 0 0 0 0 0 0 0 0 0 0 0 0 0 0 0 0 0 0 0 0 0\n",
      " 0 0 0 0 0 0 0 0 0 0 0 0 0 0 0 0 0 0 0 0 0 0 0 0 0 0 0 0 0 0 0 0 0 0 0 0 0\n",
      " 0 0 0 0 0 0 0 0 0 0 0 0 0 0 0 0 0 0 0 0 0 0 0 0 0 0 0 0 0 0 0 0 0 0 0 0 0\n",
      " 0 0 0 0 0 0 0 0 0 0 0 0 0 0 0 0 0 0 0 0 0 0 0 0 0 0 0 0 0 0 0 0 0 0 0 0 0\n",
      " 0 0 0 0 0 0 0 0 0 0 0 0 0 0 0 0 0 0 0 0 0 0 0 0 0 0 0 0 0 0 0 0 0 0 0 0 0\n",
      " 0 0 0 0 0 0 0 0 0 0 0 0 0 0 0]\n",
      "SVM against modified test data = 0.0\n"
     ]
    }
   ],
   "source": [
    "#check SVM against Mod_text\n",
    "#using self-made Bag of Words\n",
    "print(f\"SVM prediction against test data = {model.predict(mod_Xtest)}\")\n",
    "print(f\"SVM against modified test data = {model.score(mod_Xtest, ytest)}\")     "
   ]
  },
  {
   "cell_type": "code",
   "execution_count": 18,
   "metadata": {},
   "outputs": [
    {
     "name": "stdout",
     "output_type": "stream",
     "text": [
      "Help on method_descriptor:\n",
      "\n",
      "remove(...)\n",
      "    L.remove(value) -> None -- remove first occurrence of value.\n",
      "    Raises ValueError if the value is not present.\n",
      "\n"
     ]
    }
   ],
   "source": [
    "help(list.remove)"
   ]
  },
  {
   "cell_type": "markdown",
   "metadata": {},
   "source": [
    "## This is just random code used to help me \n",
    "Doesn't have effect to the model or previous code"
   ]
  },
  {
   "cell_type": "code",
   "execution_count": 61,
   "metadata": {},
   "outputs": [
    {
     "name": "stdout",
     "output_type": "stream",
     "text": [
      "1\n"
     ]
    }
   ],
   "source": [
    "#show features number for OWN Bag of words\n",
    "features_freq = dict.fromkeys(features, 0)\n",
    "for row in newlist0:\n",
    "    for i in row:\n",
    "        features_freq[i] += row[i]\n",
    "    \n",
    "for row in newlist1:\n",
    "    for i in row:\n",
    "        features_freq[i] += row[i]\n",
    "        \n",
    "lowest = 1000\n",
    "for i in features_freq:\n",
    "    if lowest > features_freq[i]:\n",
    "        lowest = features_freq[i]\n",
    "\n",
    "print(lowest)"
   ]
  },
  {
   "cell_type": "code",
   "execution_count": 2,
   "metadata": {
    "collapsed": true
   },
   "outputs": [],
   "source": [
    "import helper\n",
    "def fool_classifier(test_data): ## Please do not change the function defination...\n",
    "    ## Read the test data file, i.e., 'test_data.txt' from Present Working Directory...\n",
    "    \n",
    "    \n",
    "    ## You are supposed to use pre-defined class: 'strategy()' in the file `helper.py` for model training (if any),\n",
    "    #  and modifications limit checking\n",
    "    strategy_instance=helper.strategy() \n",
    "    parameters={}\n",
    "    \n",
    "\n",
    "    ##..................................#\n",
    "    #\n",
    "    #\n",
    "    #\n",
    "    ## Your implementation goes here....#\n",
    "    #\n",
    "    #\n",
    "    #\n",
    "    ##..................................#\n",
    "    \n",
    "    \n",
    "    ## Write out the modified file, i.e., 'modified_data.txt' in Present Working Directory...\n",
    "    \n",
    "    \n",
    "    ## You can check that the modified text is within the modification limits.\n",
    "    modified_data='./modified_data.txt'\n",
    "    assert strategy_instance.check_data(test_data, modified_data)\n",
    "    return strategy_instance ## NOTE: You are required to return the instance of this class."
   ]
  },
  {
   "cell_type": "markdown",
   "metadata": {},
   "source": [
    " **NOTE:** \n",
    " 1. **You are required to return the instance of the class: `strategy()`, $\\textit{e.g.}$, `strategy_instance` in the above cell.**\n",
    " 2. **You are supposed to write out the file `modified_data.txt` in the same directory, and in the same format as that of `test_data.txt`**"
   ]
  },
  {
   "cell_type": "markdown",
   "metadata": {},
   "source": [
    "## How we test your code"
   ]
  },
  {
   "cell_type": "code",
   "execution_count": 9,
   "metadata": {},
   "outputs": [
    {
     "name": "stdout",
     "output_type": "stream",
     "text": [
      "Success %-age = 89.5-%\n"
     ]
    }
   ],
   "source": [
    "import helper\n",
    "import submission as submission\n",
    "test_data='./test_data.txt'\n",
    "strategy_instance = submission.fool_classifier(test_data)\n",
    "\n",
    "########\n",
    "#\n",
    "# Testing Script.......\n",
    "#\n",
    "#\n",
    "########\n",
    "\n",
    "print('Success %-age = {}-%'.format(result))"
   ]
  },
  {
   "cell_type": "markdown",
   "metadata": {},
   "source": [
    "## EVALUATION:\n",
    "\n",
    "1. For evaluation, we will consider a bunch of test paragraphs having:\n",
    "    * Approximately 500-1500 test samples for class-1, with each line corresponding to a distinct test sample.The input test file will follow the same format as that of `test_data.txt`.\n",
    "    * We will consider the success rate of your algorithm for final evaluation. By success rate we mean %-age of samples miss-classified by the `target-classifier` ($\\textit{i.e.,}$  instances of `class-1`, classified as `class-0` after `20` distinct modifications). \n",
    "\n",
    "### Example:\n",
    "\n",
    "1. Consider 200 test-samples (classified as **class-1** by the `target-classifier`). \n",
    "2. For-Example, after modifying each test sample by (**20 DISTINCT TOKENS**) the `target-classifier` mis-classifies **100** test samples ($\\textit{i.e.,}$ 100 test samples are classified as **class-0** then your **success %-age** is:\n",
    "\n",
    "3. **success %-age** = (100) x 100/200 = **50%**"
   ]
  },
  {
   "cell_type": "code",
   "execution_count": null,
   "metadata": {
    "collapsed": true
   },
   "outputs": [],
   "source": []
  }
 ],
 "metadata": {
  "kernelspec": {
   "display_name": "Python 3",
   "language": "python",
   "name": "python3"
  },
  "language_info": {
   "codemirror_mode": {
    "name": "ipython",
    "version": 3
   },
   "file_extension": ".py",
   "mimetype": "text/x-python",
   "name": "python",
   "nbconvert_exporter": "python",
   "pygments_lexer": "ipython3",
   "version": "3.6.3"
  }
 },
 "nbformat": 4,
 "nbformat_minor": 2
}
